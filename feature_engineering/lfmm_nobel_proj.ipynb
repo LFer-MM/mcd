{
 "cells": [
  {
   "cell_type": "code",
   "execution_count": null,
   "metadata": {},
   "outputs": [],
   "source": [
    "import pandas as pd\n",
    "import seaborn as sns\n",
    "import numpy as np\n",
    "\n",
    "df = pd.read_csv(\"data/nobel.csv\")\n",
    "\n",
    "#print(df['sex'].value_counts().index[0])\n",
    "#print(df['birth_country'].value_counts().index[0])\n",
    "\n",
    "top_gender = df['sex'].value_counts().index[0]\n",
    "top_country = df['birth_country'].value_counts().index[0]"
   ]
  },
  {
   "cell_type": "code",
   "execution_count": null,
   "metadata": {},
   "outputs": [],
   "source": [
    "df['usa_born_winners'] = (df['birth_country'] == 'United States of America').astype(int)\n",
    "df['decade'] = (df['year'] // 10) * 10\n",
    "df_new = df.groupby('decade', as_index=False)['usa_born_winners'].agg('mean')\n",
    "max_decade_usa = df_new.loc[df_new['usa_born_winners'].idxmax(), 'decade']\n",
    "max_decade_usa"
   ]
  },
  {
   "cell_type": "code",
   "execution_count": null,
   "metadata": {},
   "outputs": [],
   "source": [
    "df['female_winner'] = df['sex'].eq('Female')\n",
    "df_female = df.groupby(['decade', 'category'], as_index=False)['female_winner'].mean()\n",
    "max_female_value = df_female['female_winner'].max()\n",
    "max_female_row = df_female[df_female['female_winner'] == max_female_value].iloc[0]\n",
    "max_female_dict = {max_female_row['decade']: max_female_row['category']}\n",
    "max_female_dict"
   ]
  },
  {
   "cell_type": "code",
   "execution_count": null,
   "metadata": {},
   "outputs": [],
   "source": [
    "new_df = df[df['female_winner']]\n",
    "min_row = new_df[new_df['year'] == new_df['year'].min()]\n",
    "first_woman_name, first_woman_category = min_row['full_name'].values[0], min_row['category'].values[0]\n",
    "first_woman_name\n",
    "first_woman_category"
   ]
  },
  {
   "cell_type": "code",
   "execution_count": null,
   "metadata": {},
   "outputs": [],
   "source": [
    "repeat_df = df[\"full_name\"].value_counts()\n",
    "repeat_list = list(repeat_df[repeat_df >= 2].index)\n",
    "repeat_list"
   ]
  }
 ],
 "metadata": {
  "language_info": {
   "name": "python"
  }
 },
 "nbformat": 4,
 "nbformat_minor": 2
}
